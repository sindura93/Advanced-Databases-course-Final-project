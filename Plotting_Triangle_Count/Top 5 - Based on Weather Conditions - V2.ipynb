{
 "cells": [
  {
   "cell_type": "code",
   "execution_count": null,
   "metadata": {
    "collapsed": true
   },
   "outputs": [],
   "source": [
    "import folium"
   ]
  },
  {
   "cell_type": "code",
   "execution_count": null,
   "metadata": {
    "collapsed": true
   },
   "outputs": [],
   "source": [
    "import json\n",
    "import pandas as pd\n",
    "import numpy as np\n",
    "import matplotlib.pyplot as plt\n",
    "import matplotlib as mpl\n",
    "from folium.plugins import MarkerCluster\n"
   ]
  },
  {
   "cell_type": "code",
   "execution_count": null,
   "metadata": {
    "collapsed": true
   },
   "outputs": [],
   "source": [
    "m = folium.Map(location=[51.5, -0.1], zoom_start=15)"
   ]
  },
  {
   "cell_type": "code",
   "execution_count": null,
   "metadata": {},
   "outputs": [],
   "source": [
    "m"
   ]
  },
  {
   "cell_type": "code",
   "execution_count": null,
   "metadata": {
    "collapsed": true
   },
   "outputs": [],
   "source": [
    "accident_data = pd.read_csv(\"dataWith5000RNRecordsWithIDAndHeaders\")\n",
    "accident_data = accident_data.sample(n=5000, random_state=42)\n",
    "accident_data.dropna(subset=[\"Latitude\", \"Longitude\"], inplace=True)"
   ]
  },
  {
   "cell_type": "code",
   "execution_count": null,
   "metadata": {},
   "outputs": [],
   "source": [
    "accident_data.head(5)"
   ]
  },
  {
   "cell_type": "code",
   "execution_count": null,
   "metadata": {},
   "outputs": [],
   "source": [
    "accident_data.shape"
   ]
  },
  {
   "cell_type": "code",
   "execution_count": null,
   "metadata": {
    "collapsed": true
   },
   "outputs": [],
   "source": [
    "def get_geojson_grid(upper_right, lower_left, n=6):\n",
    "    \"\"\"Returns a grid of geojson rectangles, and computes the exposure in each section of the grid based on the vessel data.\n",
    "\n",
    "    Parameters\n",
    "    ----------\n",
    "    upper_right: array_like\n",
    "        The upper right hand corner of \"grid of grids\" (the default is the upper right hand [lat, lon] of the USA).\n",
    "\n",
    "    lower_left: array_like\n",
    "        The lower left hand corner of \"grid of grids\"  (the default is the lower left hand [lat, lon] of the USA).\n",
    "\n",
    "    n: integer\n",
    "        The number of rows/columns in the (n,n) grid.\n",
    "\n",
    "    Returns\n",
    "    -------\n",
    "\n",
    "    list\n",
    "        List of \"geojson style\" dictionary objects   \n",
    "    \"\"\"\n",
    "\n",
    "    all_boxes = []\n",
    "\n",
    "    lat_steps = np.linspace(lower_left[0], upper_right[0], n+1)\n",
    "    lon_steps = np.linspace(lower_left[1], upper_right[1], n+1)\n",
    "\n",
    "    lat_stride = lat_steps[1] - lat_steps[0]\n",
    "    lon_stride = lon_steps[1] - lon_steps[0]\n",
    "\n",
    "    for lat in lat_steps[:-1]:\n",
    "        for lon in lon_steps[:-1]:\n",
    "            # Define dimensions of box in grid\n",
    "            upper_left = [lon, lat + lat_stride]\n",
    "            upper_right = [lon + lon_stride, lat + lat_stride]\n",
    "            lower_right = [lon + lon_stride, lat]\n",
    "            lower_left = [lon, lat]\n",
    "\n",
    "            # Define json coordinates for polygon\n",
    "            coordinates = [\n",
    "                upper_left,\n",
    "                upper_right,\n",
    "                lower_right,\n",
    "                lower_left,\n",
    "                upper_left\n",
    "            ]\n",
    "\n",
    "            geo_json = {\"type\": \"FeatureCollection\",\n",
    "                        \"properties\":{\n",
    "                            \"lower_left\": lower_left,\n",
    "                            \"upper_right\": upper_right\n",
    "                        },\n",
    "                        \"features\":[]}\n",
    "\n",
    "            grid_feature = {\n",
    "                \"type\":\"Feature\",\n",
    "                \"geometry\":{\n",
    "                    \"type\":\"Polygon\",\n",
    "                    \"coordinates\": [coordinates],\n",
    "                }\n",
    "            }\n",
    "\n",
    "            geo_json[\"features\"].append(grid_feature)\n",
    "\n",
    "            all_boxes.append(geo_json)\n",
    "\n",
    "    return all_boxes"
   ]
  },
  {
   "cell_type": "code",
   "execution_count": null,
   "metadata": {
    "collapsed": true
   },
   "outputs": [],
   "source": [
    " def generate_heat_gridmap(accident_data, htmlfilename):\n",
    "    m = folium.Map(zoom_start = 5, location=[55, 0])\n",
    "\n",
    "    # Generate GeoJson grid\n",
    "    top_right = [58, 2]\n",
    "    top_left = [49, -8]\n",
    "\n",
    "    grid = get_geojson_grid(top_right, top_left, n=6)\n",
    "\n",
    "    # Calculate exposures in grid\n",
    "    #popups = []\n",
    "    regional_counts = []\n",
    "\n",
    "    for box in grid:\n",
    "        upper_right = box[\"properties\"][\"upper_right\"]\n",
    "        lower_left = box[\"properties\"][\"lower_left\"]\n",
    "\n",
    "        mask = (\n",
    "            (accident_data.Latitude != upper_right[1]) & (accident_data.Latitude != lower_left[1]) &\n",
    "            (accident_data.Longitude != upper_right[0]) & (accident_data.Longitude != lower_left[0])\n",
    "               )\n",
    "\n",
    "        region_incidents = len(accident_data[mask])\n",
    "        regional_counts.append(region_incidents)\n",
    "\n",
    "        #total_vehicles = accident_data[mask].Number_of_Vehicles.sum()\n",
    "        #total_casualties = accident_data[mask].Number_of_Casualties.sum()\n",
    "        #content = \"total vehicles {:,.0f}, total casualties {:,.0f}\".format(total_vehicles, total_casualties)\n",
    "        #popup = folium.Popup(content)\n",
    "        #popups.append(popup)\n",
    "\n",
    "    worst_region = max(regional_counts)\n",
    "\n",
    "    # Add GeoJson to map\n",
    "    for i, box in enumerate(grid):\n",
    "        geo_json = json.dumps(box)\n",
    "\n",
    "        color = plt.cm.Reds(regional_counts[i] / worst_region)\n",
    "        color = mpl.colors.to_hex(color)\n",
    "\n",
    "        gj = folium.GeoJson(geo_json,\n",
    "                            style_function=lambda feature, color=color: {\n",
    "                                                                            'fillColor': color,\n",
    "                                                                            'color':\"black\",\n",
    "                                                                            'weight': 2,\n",
    "                                                                            'dashArray': '5, 5',\n",
    "                                                                            'fillOpacity': 0.55,\n",
    "                                                                        })\n",
    "\n",
    "        #gj.add_child(popups[i])\n",
    "        m.add_child(gj)\n",
    "\n",
    "    # Marker clusters\n",
    "    locations = list(zip(accident_data.Latitude, accident_data.Longitude))\n",
    "    icons = [folium.Icon(icon=\"car\", prefix=\"fa\") for _ in range(len(locations))]\n",
    "\n",
    "    # Create popups\n",
    "    popup_content = []\n",
    "    for incident in accident_data.itertuples():\n",
    "        #number_of_vehicles = \"Number of vehicles: {} <br/>\".format(incident.Number_of_Vehicles)\n",
    "        #number_of_casualties = \"Number of casualties: {} <br/>\".format(incident.Number_of_Casualties)\n",
    "        weather_conditions = \"Weather Condition: {} <br/>\".format(incident.Weather_Conditions)\n",
    "        triangle_count = \"Triangle Count: {} \".format(incident.Triangle_Count)\n",
    "        #content = number_of_vehicles + number_of_casualties + weather_conditions + triangle_count\n",
    "        content = weather_conditions + triangle_count\n",
    "        popup_content.append(content)\n",
    "\n",
    "    popups = [folium.Popup(content) for content in popup_content]\n",
    "\n",
    "    cluster = MarkerCluster(locations=locations, icons=icons, popups=popups)\n",
    "    m.add_child(cluster)\n",
    "\n",
    "    m.save(htmlfilename)"
   ]
  },
  {
   "cell_type": "code",
   "execution_count": null,
   "metadata": {},
   "outputs": [],
   "source": [
    "Weather_100_data = pd.read_csv(\"Weather_100_TriangleCount.csv\")\n",
    "Weather_100_data.head(5)"
   ]
  },
  {
   "cell_type": "code",
   "execution_count": null,
   "metadata": {},
   "outputs": [],
   "source": [
    "Weather_500_data = pd.read_csv(\"Weather_500_TriangleCount.csv\")\n",
    "Weather_500_data.head(5)"
   ]
  },
  {
   "cell_type": "code",
   "execution_count": null,
   "metadata": {},
   "outputs": [],
   "source": [
    "Weather_1000_data = pd.read_csv(\"Weather_1000_TriangleCount.csv\")\n",
    "Weather_1000_data.head(5)"
   ]
  },
  {
   "cell_type": "code",
   "execution_count": null,
   "metadata": {
    "collapsed": true
   },
   "outputs": [],
   "source": [
    "required_columns = list(accident_data.columns) + ['Triangle_Count']"
   ]
  },
  {
   "cell_type": "code",
   "execution_count": null,
   "metadata": {
    "collapsed": true
   },
   "outputs": [],
   "source": [
    "accident_weather_100_data = pd.merge(accident_data, Weather_100_data, left_on='Accident_ID', right_on='Node', how='inner')"
   ]
  },
  {
   "cell_type": "code",
   "execution_count": null,
   "metadata": {},
   "outputs": [],
   "source": [
    "accident_weather_100 = accident_weather_100_data[required_columns].sort_values('Triangle_Count', ascending=False)\n",
    "accident_weather_100.head(5)"
   ]
  },
  {
   "cell_type": "code",
   "execution_count": null,
   "metadata": {},
   "outputs": [],
   "source": [
    "accident_weather_100_top5 = accident_weather_100.head(5)\n",
    "accident_weather_100.head(5)"
   ]
  },
  {
   "cell_type": "code",
   "execution_count": null,
   "metadata": {},
   "outputs": [],
   "source": [
    "generate_heat_gridmap(accident_weather_100_top5, \"car_accidents_weather_100_v1.html\")"
   ]
  },
  {
   "cell_type": "code",
   "execution_count": null,
   "metadata": {
    "collapsed": true
   },
   "outputs": [],
   "source": [
    "accident_weather_500_data = pd.merge(accident_data, Weather_500_data, left_on='Accident_ID', right_on='Node', how='inner')"
   ]
  },
  {
   "cell_type": "code",
   "execution_count": null,
   "metadata": {
    "collapsed": true
   },
   "outputs": [],
   "source": [
    "accident_weather_500 = accident_weather_500_data[required_columns].sort_values('Triangle_Count', ascending=False)"
   ]
  },
  {
   "cell_type": "code",
   "execution_count": null,
   "metadata": {},
   "outputs": [],
   "source": [
    "accident_weather_500_top5 = accident_weather_500.head(5)\n",
    "accident_weather_500.head(5)"
   ]
  },
  {
   "cell_type": "code",
   "execution_count": null,
   "metadata": {
    "collapsed": true
   },
   "outputs": [],
   "source": [
    "generate_heat_gridmap(accident_weather_500_top5, \"car_accidents_weather_500_v1.html\")"
   ]
  },
  {
   "cell_type": "code",
   "execution_count": null,
   "metadata": {
    "collapsed": true
   },
   "outputs": [],
   "source": [
    "accident_weather_1000_data = pd.merge(accident_data, Weather_1000_data, left_on='Accident_ID', right_on='Node', how='inner')"
   ]
  },
  {
   "cell_type": "code",
   "execution_count": null,
   "metadata": {
    "collapsed": true
   },
   "outputs": [],
   "source": [
    "accident_weather_1000 = accident_weather_1000_data[required_columns].sort_values('Triangle_Count', ascending=False)"
   ]
  },
  {
   "cell_type": "code",
   "execution_count": null,
   "metadata": {},
   "outputs": [],
   "source": [
    "accident_weather_1000_top5 = accident_weather_1000.head(5)\n",
    "accident_weather_1000.head(5)"
   ]
  },
  {
   "cell_type": "code",
   "execution_count": null,
   "metadata": {
    "collapsed": true
   },
   "outputs": [],
   "source": [
    "generate_heat_gridmap(accident_weather_1000_top5, \"car_accidents_weather_1000_v1.html\")"
   ]
  },
  {
   "cell_type": "code",
   "execution_count": null,
   "metadata": {
    "collapsed": true
   },
   "outputs": [],
   "source": []
  }
 ],
 "metadata": {
  "kernelspec": {
   "display_name": "Python 3",
   "language": "python",
   "name": "python3"
  },
  "language_info": {
   "codemirror_mode": {
    "name": "ipython",
    "version": 3
   },
   "file_extension": ".py",
   "mimetype": "text/x-python",
   "name": "python",
   "nbconvert_exporter": "python",
   "pygments_lexer": "ipython3",
   "version": "3.6.3"
  }
 },
 "nbformat": 4,
 "nbformat_minor": 2
}
